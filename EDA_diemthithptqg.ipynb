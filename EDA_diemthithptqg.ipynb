{
 "cells": [
  {
   "cell_type": "markdown",
   "id": "8b93a237",
   "metadata": {},
   "source": [
    "<h2 id=\"import_data\">Import Data</h2>"
   ]
  },
  {
   "cell_type": "code",
   "execution_count": 1,
   "id": "f31042f4",
   "metadata": {
    "collapsed": true
   },
   "outputs": [],
   "source": [
    "# install lib\n",
    "#! mamba install pandas==1.3.3\n",
    "#! mamba install numpy=1.21.2\n",
    "#! mamba install scipy=1.7.1-y\n",
    "#!  mamba install seaborn=0.9.0-y"
   ]
  },
  {
   "cell_type": "code",
   "execution_count": 2,
   "id": "d7f29739",
   "metadata": {},
   "outputs": [
    {
     "data": {
      "text/html": [
       "<div>\n",
       "<style scoped>\n",
       "    .dataframe tbody tr th:only-of-type {\n",
       "        vertical-align: middle;\n",
       "    }\n",
       "\n",
       "    .dataframe tbody tr th {\n",
       "        vertical-align: top;\n",
       "    }\n",
       "\n",
       "    .dataframe thead th {\n",
       "        text-align: right;\n",
       "    }\n",
       "</style>\n",
       "<table border=\"1\" class=\"dataframe\">\n",
       "  <thead>\n",
       "    <tr style=\"text-align: right;\">\n",
       "      <th></th>\n",
       "      <th>sbd</th>\n",
       "      <th>toan</th>\n",
       "      <th>ngu_van</th>\n",
       "      <th>ngoai_ngu</th>\n",
       "      <th>vat_li</th>\n",
       "      <th>hoa_hoc</th>\n",
       "      <th>sinh_hoc</th>\n",
       "      <th>lich_su</th>\n",
       "      <th>dia_li</th>\n",
       "      <th>gdcd</th>\n",
       "    </tr>\n",
       "  </thead>\n",
       "  <tbody>\n",
       "    <tr>\n",
       "      <th>0</th>\n",
       "      <td>1000001</td>\n",
       "      <td>3.6</td>\n",
       "      <td>5.00</td>\n",
       "      <td>4.0</td>\n",
       "      <td>NaN</td>\n",
       "      <td>NaN</td>\n",
       "      <td>NaN</td>\n",
       "      <td>2.75</td>\n",
       "      <td>6.0</td>\n",
       "      <td>8.75</td>\n",
       "    </tr>\n",
       "    <tr>\n",
       "      <th>1</th>\n",
       "      <td>1000002</td>\n",
       "      <td>8.4</td>\n",
       "      <td>6.75</td>\n",
       "      <td>7.6</td>\n",
       "      <td>NaN</td>\n",
       "      <td>NaN</td>\n",
       "      <td>NaN</td>\n",
       "      <td>8.50</td>\n",
       "      <td>7.5</td>\n",
       "      <td>8.25</td>\n",
       "    </tr>\n",
       "    <tr>\n",
       "      <th>2</th>\n",
       "      <td>1000003</td>\n",
       "      <td>5.8</td>\n",
       "      <td>7.50</td>\n",
       "      <td>5.0</td>\n",
       "      <td>NaN</td>\n",
       "      <td>NaN</td>\n",
       "      <td>NaN</td>\n",
       "      <td>7.25</td>\n",
       "      <td>5.5</td>\n",
       "      <td>8.75</td>\n",
       "    </tr>\n",
       "    <tr>\n",
       "      <th>3</th>\n",
       "      <td>1000004</td>\n",
       "      <td>7.4</td>\n",
       "      <td>7.50</td>\n",
       "      <td>8.6</td>\n",
       "      <td>NaN</td>\n",
       "      <td>NaN</td>\n",
       "      <td>NaN</td>\n",
       "      <td>7.50</td>\n",
       "      <td>6.5</td>\n",
       "      <td>7.50</td>\n",
       "    </tr>\n",
       "    <tr>\n",
       "      <th>4</th>\n",
       "      <td>1000005</td>\n",
       "      <td>7.2</td>\n",
       "      <td>8.50</td>\n",
       "      <td>9.0</td>\n",
       "      <td>NaN</td>\n",
       "      <td>NaN</td>\n",
       "      <td>NaN</td>\n",
       "      <td>8.00</td>\n",
       "      <td>8.5</td>\n",
       "      <td>8.25</td>\n",
       "    </tr>\n",
       "  </tbody>\n",
       "</table>\n",
       "</div>"
      ],
      "text/plain": [
       "       sbd  toan  ngu_van  ngoai_ngu  vat_li  hoa_hoc  sinh_hoc  lich_su  \\\n",
       "0  1000001   3.6     5.00        4.0     NaN      NaN       NaN     2.75   \n",
       "1  1000002   8.4     6.75        7.6     NaN      NaN       NaN     8.50   \n",
       "2  1000003   5.8     7.50        5.0     NaN      NaN       NaN     7.25   \n",
       "3  1000004   7.4     7.50        8.6     NaN      NaN       NaN     7.50   \n",
       "4  1000005   7.2     8.50        9.0     NaN      NaN       NaN     8.00   \n",
       "\n",
       "   dia_li  gdcd  \n",
       "0     6.0  8.75  \n",
       "1     7.5  8.25  \n",
       "2     5.5  8.75  \n",
       "3     6.5  7.50  \n",
       "4     8.5  8.25  "
      ]
     },
     "execution_count": 2,
     "metadata": {},
     "output_type": "execute_result"
    }
   ],
   "source": [
    "import pandas as pd\n",
    "import numpy as np\n",
    "import matplotlib.pyplot as plt\n",
    "import seaborn as sns\n",
    "%matplotlib inline \n",
    "\n",
    "path = \"D:/diem_thi_thpt_2022.csv\"\n",
    "df = pd.read_csv(path)\n",
    "df.head()"
   ]
  },
  {
   "cell_type": "code",
   "execution_count": 3,
   "id": "5f96f4ce",
   "metadata": {},
   "outputs": [
    {
     "name": "stdout",
     "output_type": "stream",
     "text": [
      "SBD       int64\n",
      "Toan    float64\n",
      "Van     float64\n",
      "Anh     float64\n",
      "Ly      float64\n",
      "Hoa     float64\n",
      "Sinh    float64\n",
      "Su      float64\n",
      "Dia     float64\n",
      "GDCD    float64\n",
      "dtype: object\n"
     ]
    }
   ],
   "source": [
    "print(df.dtypes)"
   ]
  },
  {
   "cell_type": "code",
   "execution_count": 26,
   "id": "1c0a28b9",
   "metadata": {},
   "outputs": [],
   "source": [
    "# clean data (ngu_van)\n",
    "def roundPartial (value, resolution):\n",
    "    return round (value / resolution) * resolution\n",
    "\n",
    "df.iloc[:,2] = roundPartial(df.iloc[:,2], 0.25)"
   ]
  },
  {
   "cell_type": "markdown",
   "id": "29a842c2",
   "metadata": {},
   "source": [
    "<h2 id=\"discriptive_statistics\">Descriptive Statistical Analysis</h2>"
   ]
  },
  {
   "cell_type": "code",
   "execution_count": 5,
   "id": "92aa958c",
   "metadata": {},
   "outputs": [
    {
     "data": {
      "text/html": [
       "<div>\n",
       "<style scoped>\n",
       "    .dataframe tbody tr th:only-of-type {\n",
       "        vertical-align: middle;\n",
       "    }\n",
       "\n",
       "    .dataframe tbody tr th {\n",
       "        vertical-align: top;\n",
       "    }\n",
       "\n",
       "    .dataframe thead th {\n",
       "        text-align: right;\n",
       "    }\n",
       "</style>\n",
       "<table border=\"1\" class=\"dataframe\">\n",
       "  <thead>\n",
       "    <tr style=\"text-align: right;\">\n",
       "      <th></th>\n",
       "      <th>SBD</th>\n",
       "      <th>Toan</th>\n",
       "      <th>Van</th>\n",
       "      <th>Anh</th>\n",
       "      <th>Ly</th>\n",
       "      <th>Hoa</th>\n",
       "      <th>Sinh</th>\n",
       "      <th>Su</th>\n",
       "      <th>Dia</th>\n",
       "      <th>GDCD</th>\n",
       "    </tr>\n",
       "  </thead>\n",
       "  <tbody>\n",
       "    <tr>\n",
       "      <th>count</th>\n",
       "      <td>9.954410e+05</td>\n",
       "      <td>982726.000000</td>\n",
       "      <td>981407.000000</td>\n",
       "      <td>870609.000000</td>\n",
       "      <td>325523.000000</td>\n",
       "      <td>327367.000000</td>\n",
       "      <td>322198.000000</td>\n",
       "      <td>659662.000000</td>\n",
       "      <td>657421.000000</td>\n",
       "      <td>554343.000000</td>\n",
       "    </tr>\n",
       "    <tr>\n",
       "      <th>mean</th>\n",
       "      <td>2.759692e+07</td>\n",
       "      <td>6.466254</td>\n",
       "      <td>6.507746</td>\n",
       "      <td>5.157686</td>\n",
       "      <td>6.723779</td>\n",
       "      <td>6.703898</td>\n",
       "      <td>5.019109</td>\n",
       "      <td>6.343930</td>\n",
       "      <td>6.677929</td>\n",
       "      <td>8.033266</td>\n",
       "    </tr>\n",
       "    <tr>\n",
       "      <th>std</th>\n",
       "      <td>1.917092e+07</td>\n",
       "      <td>1.675435</td>\n",
       "      <td>1.379602</td>\n",
       "      <td>1.949547</td>\n",
       "      <td>1.441925</td>\n",
       "      <td>1.600393</td>\n",
       "      <td>1.448270</td>\n",
       "      <td>1.612879</td>\n",
       "      <td>1.215013</td>\n",
       "      <td>1.067272</td>\n",
       "    </tr>\n",
       "    <tr>\n",
       "      <th>min</th>\n",
       "      <td>1.000001e+06</td>\n",
       "      <td>0.000000</td>\n",
       "      <td>0.000000</td>\n",
       "      <td>0.000000</td>\n",
       "      <td>0.000000</td>\n",
       "      <td>0.000000</td>\n",
       "      <td>0.000000</td>\n",
       "      <td>0.000000</td>\n",
       "      <td>0.000000</td>\n",
       "      <td>0.000000</td>\n",
       "    </tr>\n",
       "    <tr>\n",
       "      <th>25%</th>\n",
       "      <td>1.000217e+07</td>\n",
       "      <td>5.400000</td>\n",
       "      <td>5.580000</td>\n",
       "      <td>3.600000</td>\n",
       "      <td>5.750000</td>\n",
       "      <td>5.500000</td>\n",
       "      <td>4.000000</td>\n",
       "      <td>5.250000</td>\n",
       "      <td>5.750000</td>\n",
       "      <td>7.500000</td>\n",
       "    </tr>\n",
       "    <tr>\n",
       "      <th>50%</th>\n",
       "      <td>2.801886e+07</td>\n",
       "      <td>6.800000</td>\n",
       "      <td>6.500000</td>\n",
       "      <td>4.800000</td>\n",
       "      <td>7.000000</td>\n",
       "      <td>7.000000</td>\n",
       "      <td>4.750000</td>\n",
       "      <td>6.500000</td>\n",
       "      <td>6.750000</td>\n",
       "      <td>8.250000</td>\n",
       "    </tr>\n",
       "    <tr>\n",
       "      <th>75%</th>\n",
       "      <td>4.400582e+07</td>\n",
       "      <td>7.800000</td>\n",
       "      <td>7.500000</td>\n",
       "      <td>6.600000</td>\n",
       "      <td>7.750000</td>\n",
       "      <td>8.000000</td>\n",
       "      <td>6.000000</td>\n",
       "      <td>7.500000</td>\n",
       "      <td>7.500000</td>\n",
       "      <td>8.750000</td>\n",
       "    </tr>\n",
       "    <tr>\n",
       "      <th>max</th>\n",
       "      <td>6.400659e+07</td>\n",
       "      <td>10.000000</td>\n",
       "      <td>10.000000</td>\n",
       "      <td>10.000000</td>\n",
       "      <td>10.000000</td>\n",
       "      <td>10.000000</td>\n",
       "      <td>10.000000</td>\n",
       "      <td>10.000000</td>\n",
       "      <td>10.000000</td>\n",
       "      <td>10.000000</td>\n",
       "    </tr>\n",
       "  </tbody>\n",
       "</table>\n",
       "</div>"
      ],
      "text/plain": [
       "                SBD           Toan            Van            Anh  \\\n",
       "count  9.954410e+05  982726.000000  981407.000000  870609.000000   \n",
       "mean   2.759692e+07       6.466254       6.507746       5.157686   \n",
       "std    1.917092e+07       1.675435       1.379602       1.949547   \n",
       "min    1.000001e+06       0.000000       0.000000       0.000000   \n",
       "25%    1.000217e+07       5.400000       5.580000       3.600000   \n",
       "50%    2.801886e+07       6.800000       6.500000       4.800000   \n",
       "75%    4.400582e+07       7.800000       7.500000       6.600000   \n",
       "max    6.400659e+07      10.000000      10.000000      10.000000   \n",
       "\n",
       "                  Ly            Hoa           Sinh             Su  \\\n",
       "count  325523.000000  327367.000000  322198.000000  659662.000000   \n",
       "mean        6.723779       6.703898       5.019109       6.343930   \n",
       "std         1.441925       1.600393       1.448270       1.612879   \n",
       "min         0.000000       0.000000       0.000000       0.000000   \n",
       "25%         5.750000       5.500000       4.000000       5.250000   \n",
       "50%         7.000000       7.000000       4.750000       6.500000   \n",
       "75%         7.750000       8.000000       6.000000       7.500000   \n",
       "max        10.000000      10.000000      10.000000      10.000000   \n",
       "\n",
       "                 Dia           GDCD  \n",
       "count  657421.000000  554343.000000  \n",
       "mean        6.677929       8.033266  \n",
       "std         1.215013       1.067272  \n",
       "min         0.000000       0.000000  \n",
       "25%         5.750000       7.500000  \n",
       "50%         6.750000       8.250000  \n",
       "75%         7.500000       8.750000  \n",
       "max        10.000000      10.000000  "
      ]
     },
     "execution_count": 5,
     "metadata": {},
     "output_type": "execute_result"
    }
   ],
   "source": [
    "df.describe()"
   ]
  },
  {
   "cell_type": "code",
   "execution_count": 7,
   "id": "6655c6f2",
   "metadata": {},
   "outputs": [
    {
     "data": {
      "text/plain": [
       "7.8     54495\n",
       "7.6     53693\n",
       "8.0     52273\n",
       "7.4     51490\n",
       "7.2     48716\n",
       "8.2     48222\n",
       "7.0     45808\n",
       "6.8     42732\n",
       "8.4     40654\n",
       "6.6     40132\n",
       "6.4     37964\n",
       "6.2     35357\n",
       "6.0     33409\n",
       "5.8     31292\n",
       "8.6     31021\n",
       "5.6     29634\n",
       "5.4     27651\n",
       "5.2     25704\n",
       "5.0     23712\n",
       "4.8     22232\n",
       "8.8     20796\n",
       "4.6     20204\n",
       "4.4     18528\n",
       "4.2     16898\n",
       "4.0     15359\n",
       "3.8     14265\n",
       "3.6     13066\n",
       "9.0     12095\n",
       "3.4     11981\n",
       "3.2     10724\n",
       "3.0      9661\n",
       "2.8      8533\n",
       "2.6      7207\n",
       "2.4      5965\n",
       "9.2      5915\n",
       "2.2      4373\n",
       "2.0      3123\n",
       "9.4      2540\n",
       "1.8      1980\n",
       "1.6      1129\n",
       "9.6       926\n",
       "1.4       568\n",
       "1.2       260\n",
       "9.8       240\n",
       "1.0       109\n",
       "0.8        42\n",
       "10.0       35\n",
       "0.6         6\n",
       "0.0         3\n",
       "0.4         3\n",
       "0.2         1\n",
       "Name: Toan, dtype: int64"
      ]
     },
     "execution_count": 7,
     "metadata": {},
     "output_type": "execute_result"
    }
   ],
   "source": [
    "df['Toan'].value_counts()"
   ]
  },
  {
   "cell_type": "code",
   "execution_count": 24,
   "id": "b9a62681",
   "metadata": {},
   "outputs": [
    {
     "data": {
      "text/plain": [
       "982726"
      ]
     },
     "execution_count": 24,
     "metadata": {},
     "output_type": "execute_result"
    }
   ],
   "source": [
    "# Count notnull values in each column\n",
    "df.iloc[:,1].count()"
   ]
  },
  {
   "cell_type": "code",
   "execution_count": 69,
   "id": "016ac469",
   "metadata": {},
   "outputs": [
    {
     "data": {
      "text/html": [
       "<div>\n",
       "<style scoped>\n",
       "    .dataframe tbody tr th:only-of-type {\n",
       "        vertical-align: middle;\n",
       "    }\n",
       "\n",
       "    .dataframe tbody tr th {\n",
       "        vertical-align: top;\n",
       "    }\n",
       "\n",
       "    .dataframe thead th {\n",
       "        text-align: right;\n",
       "    }\n",
       "</style>\n",
       "<table border=\"1\" class=\"dataframe\">\n",
       "  <thead>\n",
       "    <tr style=\"text-align: right;\">\n",
       "      <th></th>\n",
       "      <th>count</th>\n",
       "    </tr>\n",
       "  </thead>\n",
       "  <tbody>\n",
       "    <tr>\n",
       "      <th>Toan</th>\n",
       "      <td>982726</td>\n",
       "    </tr>\n",
       "    <tr>\n",
       "      <th>Van</th>\n",
       "      <td>981407</td>\n",
       "    </tr>\n",
       "    <tr>\n",
       "      <th>Anh</th>\n",
       "      <td>870609</td>\n",
       "    </tr>\n",
       "    <tr>\n",
       "      <th>Ly</th>\n",
       "      <td>325523</td>\n",
       "    </tr>\n",
       "    <tr>\n",
       "      <th>Hoa</th>\n",
       "      <td>327367</td>\n",
       "    </tr>\n",
       "    <tr>\n",
       "      <th>Sinh</th>\n",
       "      <td>322198</td>\n",
       "    </tr>\n",
       "    <tr>\n",
       "      <th>Su</th>\n",
       "      <td>659662</td>\n",
       "    </tr>\n",
       "    <tr>\n",
       "      <th>Dia</th>\n",
       "      <td>657421</td>\n",
       "    </tr>\n",
       "    <tr>\n",
       "      <th>GDCD</th>\n",
       "      <td>554343</td>\n",
       "    </tr>\n",
       "  </tbody>\n",
       "</table>\n",
       "</div>"
      ],
      "text/plain": [
       "       count\n",
       "Toan  982726\n",
       "Van   981407\n",
       "Anh   870609\n",
       "Ly    325523\n",
       "Hoa   327367\n",
       "Sinh  322198\n",
       "Su    659662\n",
       "Dia   657421\n",
       "GDCD  554343"
      ]
     },
     "execution_count": 69,
     "metadata": {},
     "output_type": "execute_result"
    }
   ],
   "source": [
    "# Count notnull values in each column & create a dataframe\n",
    "NotNull = pd.DataFrame(df.iloc[:,1:].notnull().sum())\n",
    "NotNull.rename(columns={0:'count'},inplace=True)\n",
    "\n",
    "NotNull"
   ]
  },
  {
   "cell_type": "code",
   "execution_count": 86,
   "id": "c510fd71",
   "metadata": {},
   "outputs": [
    {
     "data": {
      "text/plain": [
       "Text(0, 0.5, 'Attendees (in thousands)')"
      ]
     },
     "execution_count": 86,
     "metadata": {},
     "output_type": "execute_result"
    },
    {
     "data": {
      "image/png": "[encoded data removed]",
      "text/plain": [
       "<Figure size 1080x504 with 1 Axes>"
      ]
     },
     "metadata": {
      "needs_background": "light"
     },
     "output_type": "display_data"
    }
   ],
   "source": [
    "# add label: https://www.geeksforgeeks.org/adding-value-labels-on-a-matplotlib-bar-chart/\n",
    "def addlabels(x,y):\n",
    "    for i in range(len(x)):\n",
    "        round_y = round(y[i]/1000)\n",
    "        plt.text(i, y[i]//2, round_y, ha = 'center')\n",
    "        \n",
    "NotNull['count'].plot(kind='bar',rot=0,x=NotNull.index,figsize=(15,7))\n",
    "x = NotNull.index\n",
    "y = NotNull.iloc[:,0]\n",
    "addlabels(x,y)\n",
    "plt.title('Number of participants by subjects')\n",
    "plt.xlabel('Subjects')\n",
    "plt.ylabel('Participants (in thousands)')"
   ]
  },
  {
   "cell_type": "code",
   "execution_count": 73,
   "id": "1ab0948c",
   "metadata": {},
   "outputs": [
    {
     "data": {
      "text/plain": [
       "Toan    982726\n",
       "Van     981407\n",
       "Anh     870609\n",
       "Ly      325523\n",
       "Hoa     327367\n",
       "Sinh    322198\n",
       "Su      659662\n",
       "Dia     657421\n",
       "GDCD    554343\n",
       "Name: count, dtype: int64"
      ]
     },
     "execution_count": 73,
     "metadata": {},
     "output_type": "execute_result"
    }
   ],
   "source": [
    "NotNull.iloc[:,0]"
   ]
  },
  {
   "cell_type": "code",
   "execution_count": 27,
   "id": "9d21d694",
   "metadata": {},
   "outputs": [
    {
     "data": {
      "image/png": "[encoded data removed]",
      "text/plain": [
       "<Figure size 1440x360 with 1 Axes>"
      ]
     },
     "metadata": {
      "needs_background": "light"
     },
     "output_type": "display_data"
    },
    {
     "data": {
      "image/png": "[encoded data removed]",
      "text/plain": [
       "<Figure size 1440x360 with 1 Axes>"
      ]
     },
     "metadata": {
      "needs_background": "light"
     },
     "output_type": "display_data"
    },
    {
     "data": {
      "image/png": "[encoded data removed]",
      "text/plain": [
       "<Figure size 1440x360 with 1 Axes>"
      ]
     },
     "metadata": {
      "needs_background": "light"
     },
     "output_type": "display_data"
    },
    {
     "data": {
      "image/png": "[encoded data removed]",
      "text/plain": [
       "<Figure size 1440x360 with 1 Axes>"
      ]
     },
     "metadata": {
      "needs_background": "light"
     },
     "output_type": "display_data"
    },
    {
     "data": {
      "image/png": "[encoded data removed]",
      "text/plain": [
       "<Figure size 1440x360 with 1 Axes>"
      ]
     },
     "metadata": {
      "needs_background": "light"
     },
     "output_type": "display_data"
    },
    {
     "data": {
      "image/png": "[encoded data removed]",
      "text/plain": [
       "<Figure size 1440x360 with 1 Axes>"
      ]
     },
     "metadata": {
      "needs_background": "light"
     },
     "output_type": "display_data"
    },
    {
     "data": {
      "image/png": "[encoded data removed]",
      "text/plain": [
       "<Figure size 1440x360 with 1 Axes>"
      ]
     },
     "metadata": {
      "needs_background": "light"
     },
     "output_type": "display_data"
    },
    {
     "data": {
      "image/png": "[encoded data removed]",
      "text/plain": [
       "<Figure size 1440x360 with 1 Axes>"
      ]
     },
     "metadata": {
      "needs_background": "light"
     },
     "output_type": "display_data"
    },
    {
     "data": {
      "image/png": "[encoded data removed]",
      "text/plain": [
       "<Figure size 1440x360 with 1 Axes>"
      ]
     },
     "metadata": {
      "needs_background": "light"
     },
     "output_type": "display_data"
    }
   ],
   "source": [
    "i = 1 \n",
    "while i < 10:\n",
    "    df.iloc[:,i].value_counts().sort_index().plot(kind='bar',figsize=(20,5),rot=0)\n",
    "    plt.title(f'{df.columns[i]}')\n",
    "    plt.show()\n",
    "    i += 1"
   ]
  }
 ],
 "metadata": {
  "kernelspec": {
   "display_name": "Python 3.10.4 64-bit",
   "language": "python",
   "name": "python3"
  },
  "language_info": {
   "codemirror_mode": {
    "name": "ipython",
    "version": 3
   },
   "file_extension": ".py",
   "mimetype": "text/x-python",
   "name": "python",
   "nbconvert_exporter": "python",
   "pygments_lexer": "ipython3",
   "version": "3.10.4"
  },
  "vscode": {
   "interpreter": {
    "hash": "b0c89d24f2358cea08c921b907a403485c7b1bbf87d6a65c127ee5595cab6417"
   }
  }
 },
 "nbformat": 4,
 "nbformat_minor": 5
}
